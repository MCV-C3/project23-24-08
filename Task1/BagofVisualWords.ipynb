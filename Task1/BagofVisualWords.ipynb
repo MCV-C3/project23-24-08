{
 "cells": [
  {
   "cell_type": "code",
   "execution_count": 25,
   "metadata": {},
   "outputs": [],
   "source": [
    "import cv2\n",
    "import numpy as np\n",
    "import pickle\n",
    "import matplotlib.pyplot as plt\n",
    "from sklearn.cluster import MiniBatchKMeans\n",
    "from sklearn.neighbors import KNeighborsClassifier\n",
    "from sklearn.model_selection import KFold\n",
    "from sklearn.decomposition import PCA\n",
    "import os, tqdm\n",
    "# from sklearn.discriminant_analysis import LinearDiscriminantAnalysis"
   ]
  },
  {
   "cell_type": "markdown",
   "metadata": {},
   "source": [
    "Let us first read the train and test files"
   ]
  },
  {
   "cell_type": "code",
   "execution_count": null,
   "metadata": {},
   "outputs": [],
   "source": [
    "img = cv2.imread(r'train\\coast\\arnat59.jpg')[:,:,::-1]\n",
    "plt.imshow(img)"
   ]
  },
  {
   "cell_type": "code",
   "execution_count": null,
   "metadata": {},
   "outputs": [],
   "source": [
    "def accuracy(predictions, labels):\n",
    "    return sum(predictions == labels) / len(labels)\n",
    "\n",
    "def precision(predictions, labels, class_label):\n",
    "    tp = np.sum((predictions == class_label) & (labels == class_label))\n",
    "    fp = np.sum((predictions == class_label) & (labels != class_label))\n",
    "    return tp / (tp + fp) if (tp + fp) > 0 else 0\n",
    "\n",
    "def recall(predictions, labels, class_label):\n",
    "    tp = np.sum((predictions == class_label) & (labels == class_label))\n",
    "    fn = np.sum((predictions != class_label) & (labels == class_label))\n",
    "    return tp / (tp + fn) if (tp + fn) > 0 else 0\n",
    "\n",
    "def average_precision(predictions, labels):\n",
    "    classes = np.unique(labels)\n",
    "    return np.mean([precision(predictions, labels, c) for c in classes])\n",
    "\n",
    "def average_recall(predictions, labels):\n",
    "    classes = np.unique(labels)\n",
    "    return np.mean([recall(predictions, labels, c) for c in classes])\n",
    "\n",
    "def average_f1(predictions, labels):\n",
    "    return 2 * average_precision(predictions, labels) * average_recall(predictions, labels) / (average_precision(predictions, labels) + average_recall(predictions, labels))\n",
    "\n",
    "class BoVW():\n",
    "    def __init__(self, config, size_per_class=1e9, preload_features=False, folder_path_train='train', folder_path_test='test'):\n",
    "\n",
    "        self.config = config\n",
    "        self.train_dataset = {'image_paths': [], 'labels': []}\n",
    "        self.test_dataset = {'image_paths': [], 'labels': []}\n",
    "\n",
    "        for label in os.listdir(folder_path_train):\n",
    "            for i,image_name in enumerate(os.listdir(os.path.join(folder_path_train, label))):\n",
    "                self.train_dataset['image_paths'].append(os.path.join(folder_path_train, label, image_name))\n",
    "                self.train_dataset['labels'].append(label)\n",
    "\n",
    "                # good for making a small test\n",
    "                if i >= size_per_class:\n",
    "                    break\n",
    "        \n",
    "        self.train_dataset['labels'] = np.array(self.train_dataset['labels'])\n",
    "        for label in os.listdir(folder_path_test):\n",
    "            for i,image_name in enumerate(os.listdir(os.path.join(folder_path_test, label))):\n",
    "                self.test_dataset['image_paths'].append(os.path.join(folder_path_test, label, image_name))\n",
    "                self.test_dataset['labels'].append(label)\n",
    "                \n",
    "                # good for making a small test\n",
    "                if i >= size_per_class:\n",
    "                    break\n",
    "        \n",
    "        self.test_dataset['labels'] = np.array(self.test_dataset['labels'])\n",
    "        self.train_features, self.test_features = self._compute_descriptors(preload=preload_features)\n",
    "\n",
    "    def _compute_descriptors(self, preload=False):\n",
    "\n",
    "        if preload:\n",
    "            return ...\n",
    "        \n",
    "        # Initialize lists to store results\n",
    "        dense_features_train, dense_features_test = [], []\n",
    "\n",
    "        # Iterate over all files in the directory\n",
    "        for i,dataset in enumerate([self.train_dataset['image_paths'], self.test_dataset['image_paths']]):\n",
    "            for j,filename in enumerate(tqdm.tqdm(dataset, desc='Extracting features from dataset %d' % i)):\n",
    "                # Load the imag\n",
    "                img = cv2.imread(filename)\n",
    "                gray = cv2.cvtColor(img, cv2.COLOR_BGR2GRAY)\n",
    "\n",
    "                if self.config['descriptor'] == 'dense_sift':\n",
    "                    # Initialize Dense SIFT extractor\n",
    "                    sift = cv2.SIFT_create()\n",
    "                    kp = [cv2.KeyPoint(x, y, self.config['step_size']) for y in range(0, gray.shape[0], self.config['step_size'])\n",
    "                                                                       for x in range(0, gray.shape[1], self.config['step_size'])]\n",
    "                    kp, des = sift.compute(gray, kp)\n",
    "\n",
    "                elif self.config['descriptor'] == 'sift':\n",
    "                    # Initialize Dense SIFT extractor\n",
    "                    sift = cv2.SIFT_create()\n",
    "                    _, des = sift.detectAndCompute(gray, None)\n",
    "\n",
    "                elif self.config['descriptor'] == 'akaze':\n",
    "                    # Initialize AKAZE extractor\n",
    "                    akaze = cv2.AKAZE_create()\n",
    "                    _, des = akaze.detectAndCompute(gray, None)\n",
    "                \n",
    "                if i == 0:\n",
    "                    dense_features_train.append(des)\n",
    "                else:\n",
    "                    dense_features_test.append(des)\n",
    "\n",
    "        return np.array(dense_features_train), np.array(dense_features_test)\n",
    "        \n",
    "\n",
    "    def fit(self):\n",
    "        self.kmeans = MiniBatchKMeans(n_clusters=self.config['n_words'], verbose=False, batch_size=1024, compute_labels=False, random_state=123)\n",
    "        self.kmeans.fit(self.train_features.reshape(-1,128))\n",
    "\n",
    "        visual_words = np.zeros((len(self.train_features), self.config['n_words']), dtype=int)\n",
    "        for i in range(len(self.train_features)):\n",
    "            words = self.kmeans.predict(self.train_features[i])\n",
    "            visual_words[i,:] = np.bincount(words, minlength=self.config['n_words'])\n",
    "\n",
    "        if self.config['classifier'] == 'knn':\n",
    "            self.classifier = KNeighborsClassifier(n_neighbors=self.config['n_neigh'], n_jobs=-1, metric=self.config['metric'])\n",
    "        elif self.config['classifier'] == 'svm':\n",
    "            ...\n",
    "            # self.classifier = SVC(kernel=self.config['kernel'])\n",
    "        self.classifier.fit(visual_words, self.train_dataset['labels'])\n",
    "\n",
    "    def fit_cross_validation(self):\n",
    "        \n",
    "        kf = KFold(n_splits=self.config['n_folds'], shuffle=True, random_state=123)\n",
    "        accuracies, recalls, precisions, f1s = [], [], [], []\n",
    "\n",
    "        for train_index, test_index in tqdm.tqdm(kf.split(self.train_features), desc='Cross validation', total=self.config['n_folds']):\n",
    "            # Split features and labels for this fold\n",
    "            X_train, X_test = self.train_features[train_index], self.train_features[test_index]\n",
    "            y_train, y_test = self.train_dataset['labels'][train_index], self.train_dataset['labels'][test_index]\n",
    "\n",
    "            # Fit KMeans and KNN\n",
    "            kmeans_cv = MiniBatchKMeans(n_clusters=self.config['n_words'], verbose=False, batch_size=1024, compute_labels=False, random_state=123)\n",
    "            kmeans_cv.fit(X_train.reshape(-1,128))\n",
    "\n",
    "            visual_words = np.zeros((len(X_train), self.config['n_words']), dtype=int)\n",
    "            for i in range(len(X_train)):\n",
    "                words = kmeans_cv.predict(X_train[i])\n",
    "                visual_words[i,:] = np.bincount(words, minlength=self.config['n_words'])\n",
    "\n",
    "            if self.config['classifier'] == 'knn':\n",
    "                classifier = KNeighborsClassifier(n_neighbors=self.config['n_neigh'], n_jobs=-1, metric=self.config['metric'])\n",
    "            elif self.config['classifier'] == 'svm':\n",
    "                ...\n",
    "                # classifier = SVC(kernel=self.config['kernel'])\n",
    "            classifier.fit(visual_words, y_train)\n",
    "            \n",
    "            # Predict\n",
    "            visual_words_test = np.zeros((len(X_test), self.config['n_words']), dtype=int)\n",
    "\n",
    "            for i in range(len(X_test)):\n",
    "                words = kmeans_cv.predict(X_test[i])\n",
    "                visual_words_test[i,:] = np.bincount(words, minlength=self.config['n_words'])\n",
    "            \n",
    "            predictions = classifier.predict(visual_words_test)\n",
    "            \n",
    "            # Calculate metrics\n",
    "            accuracies.append(accuracy(predictions, y_test))\n",
    "            recalls.append(average_recall(predictions, y_test))\n",
    "            precisions.append(average_precision(predictions, y_test))\n",
    "            f1s.append(average_f1(predictions, y_test))\n",
    "\n",
    "        return accuracies, recalls, precisions, f1s\n",
    "\n",
    "    def predict(self):\n",
    "        visual_words_test = np.zeros((len(self.test_features), self.config['n_words']), dtype=int)\n",
    "\n",
    "        for i in range(len(self.test_features)):\n",
    "            words = self.kmeans.predict(self.test_features[i])\n",
    "            visual_words_test[i,:] = np.bincount(words, minlength=self.config['n_words'])\n",
    "        \n",
    "        return self.classifier.predict(visual_words_test)\n",
    "\n",
    "config = {\n",
    "    'descriptor': 'dense_sift',\n",
    "    'step_size': 25,\n",
    "    'n_words': 128,\n",
    "    'n_neigh': 5,\n",
    "    'metric': 'euclidean',\n",
    "    'n_folds': 5,\n",
    "    'dimentionality_reduction': 'pca',\n",
    "    'n_components': 50,\n",
    "    'level_pyramid': 1,\n",
    "    'kernel': 'rbf',\n",
    "    'classifier': 'knn',\n",
    "    'fisher_vector': False\n",
    "}\n",
    "bovw = BoVW(config, size_per_class=50)\n",
    "# bovw.fit()\n",
    "# predictions = bovw.predict()\n",
    "bovw.fit_cross_validation()\n",
    "\n",
    "# falta implentar las divisiones de la piramide\n",
    "# falta implementar el pca\n",
    "# falta implementar el svm\n",
    "# falta implementar el fisher vector\n",
    "# falta implementar wandb\n",
    "# norm/scaler????"
   ]
  },
  {
   "cell_type": "code",
   "execution_count": 19,
   "metadata": {},
   "outputs": [
    {
     "name": "stdout",
     "output_type": "stream",
     "text": [
      "Accuracy: 0.70\n",
      "Recall: 0.71\n",
      "Precision: 0.71\n",
      "F1: 0.71\n"
     ]
    }
   ],
   "source": [
    "print('Accuracy: %.2f' % accuracy(predictions, bovw.test_dataset['labels']))\n",
    "print('Recall: %.2f' % average_recall(predictions, bovw.test_dataset['labels']))\n",
    "print('Precision: %.2f' % average_precision(predictions, bovw.test_dataset['labels']))\n",
    "print('F1: %.2f' % average_f1(predictions, bovw.test_dataset['labels']))"
   ]
  },
  {
   "cell_type": "code",
   "execution_count": 2,
   "metadata": {},
   "outputs": [],
   "source": [
    "train_images_filenames = pickle.load(open('train_images_filenames.dat','rb'))\n",
    "test_images_filenames = pickle.load(open('test_images_filenames.dat','rb'))\n",
    "train_images_filenames = [n[26:] for n in train_images_filenames]\n",
    "test_images_filenames  = [n[26:] for n in test_images_filenames]\n",
    "train_labels = pickle.load(open('train_labels.dat','rb')) \n",
    "test_labels = pickle.load(open('test_labels.dat','rb'))"
   ]
  },
  {
   "cell_type": "markdown",
   "metadata": {},
   "source": [
    "We create a KAZE/SIFT/.... object detector and descriptor"
   ]
  },
  {
   "cell_type": "code",
   "execution_count": 23,
   "metadata": {},
   "outputs": [],
   "source": [
    "Detector = cv2.KAZE_create(threshold=0.0001)"
   ]
  },
  {
   "cell_type": "markdown",
   "metadata": {},
   "source": [
    "We compute the  descriptors for all the train images and subsequently build a numpy array with all the descriptors stacked together"
   ]
  },
  {
   "cell_type": "code",
   "execution_count": 24,
   "metadata": {},
   "outputs": [],
   "source": [
    "Train_descriptors = []\n",
    "Train_label_per_descriptor = []\n",
    "\n",
    "for filename,labels in zip(train_images_filenames,train_labels):\n",
    "    ima=cv2.imread(filename)\n",
    "    gray=cv2.cvtColor(ima,cv2.COLOR_BGR2GRAY)\n",
    "    kpt,des=Detector.detectAndCompute(gray,None)\n",
    "    Train_descriptors.append(des)\n",
    "    Train_label_per_descriptor.append(labels)\n",
    "\n",
    "D=np.vstack(Train_descriptors)"
   ]
  },
  {
   "cell_type": "markdown",
   "metadata": {},
   "source": [
    "We now compute a k-means clustering on the descriptor space"
   ]
  },
  {
   "cell_type": "code",
   "execution_count": 25,
   "metadata": {},
   "outputs": [
    {
     "data": {
      "text/plain": [
       "MiniBatchKMeans(batch_size=2560, compute_labels=False, n_clusters=128,\n",
       "                random_state=42, reassignment_ratio=0.0001, verbose=False)"
      ]
     },
     "execution_count": 25,
     "metadata": {},
     "output_type": "execute_result"
    }
   ],
   "source": [
    "k = 128\n",
    "codebook = MiniBatchKMeans(n_clusters=k, verbose=False, batch_size=k * 20,compute_labels=False,reassignment_ratio=10**-4,random_state=42)\n",
    "codebook.fit(D)"
   ]
  },
  {
   "cell_type": "markdown",
   "metadata": {},
   "source": [
    "And, for each train image, we project each keypoint descriptor to its closest visual word. We represent each of the images with the frequency of each visual word."
   ]
  },
  {
   "cell_type": "code",
   "execution_count": 26,
   "metadata": {},
   "outputs": [],
   "source": [
    "visual_words=np.zeros((len(Train_descriptors),k),dtype=np.float32)\n",
    "for i in range(len(Train_descriptors)):\n",
    "    words=codebook.predict(Train_descriptors[i])\n",
    "    visual_words[i,:]=np.bincount(words,minlength=k)"
   ]
  },
  {
   "cell_type": "markdown",
   "metadata": {},
   "source": [
    "We build a k-nn classifier and train it with the train descriptors"
   ]
  },
  {
   "cell_type": "code",
   "execution_count": 27,
   "metadata": {},
   "outputs": [
    {
     "data": {
      "text/plain": [
       "KNeighborsClassifier(metric='euclidean', n_jobs=-1)"
      ]
     },
     "execution_count": 27,
     "metadata": {},
     "output_type": "execute_result"
    }
   ],
   "source": [
    "knn = KNeighborsClassifier(n_neighbors=5,n_jobs=-1,metric='euclidean')\n",
    "knn.fit(visual_words, train_labels) "
   ]
  },
  {
   "cell_type": "markdown",
   "metadata": {},
   "source": [
    "We end up computing the test descriptors and compute the accuracy of the model"
   ]
  },
  {
   "cell_type": "code",
   "execution_count": 28,
   "metadata": {},
   "outputs": [],
   "source": [
    "visual_words_test=np.zeros((len(test_images_filenames),k),dtype=np.float32)\n",
    "for i in range(len(test_images_filenames)):\n",
    "    filename=test_images_filenames[i]\n",
    "    ima=cv2.imread(filename)\n",
    "    gray=cv2.cvtColor(ima,cv2.COLOR_BGR2GRAY)\n",
    "    kpt,des=Detector.detectAndCompute(gray,None)\n",
    "    words=codebook.predict(des)\n",
    "    visual_words_test[i,:]=np.bincount(words,minlength=k)"
   ]
  },
  {
   "cell_type": "code",
   "execution_count": 29,
   "metadata": {},
   "outputs": [
    {
     "name": "stdout",
     "output_type": "stream",
     "text": [
      "59.23172242874845\n"
     ]
    }
   ],
   "source": [
    "accuracy = 100*knn.score(visual_words_test, test_labels)\n",
    "print(accuracy)"
   ]
  },
  {
   "cell_type": "markdown",
   "metadata": {},
   "source": [
    "Dimensionality reduction, with PCA and LDA"
   ]
  },
  {
   "cell_type": "code",
   "execution_count": 30,
   "metadata": {},
   "outputs": [
    {
     "name": "stdout",
     "output_type": "stream",
     "text": [
      "58.48822800495663\n"
     ]
    }
   ],
   "source": [
    "pca = PCA(n_components=64)\n",
    "VWpca = pca.fit_transform(visual_words)\n",
    "knnpca = KNeighborsClassifier(n_neighbors=5,n_jobs=-1,metric='euclidean')\n",
    "knnpca.fit(VWpca, train_labels) \n",
    "vwtestpca = pca.transform(visual_words_test)\n",
    "accuracy = 100*knnpca.score(vwtestpca, test_labels)\n",
    "print(accuracy)"
   ]
  },
  {
   "cell_type": "code",
   "execution_count": 32,
   "metadata": {},
   "outputs": [
    {
     "name": "stdout",
     "output_type": "stream",
     "text": [
      "65.4275092936803\n"
     ]
    }
   ],
   "source": [
    "lda = LinearDiscriminantAnalysis(n_components=7)\n",
    "VWlda = lda.fit_transform(visual_words,train_labels)\n",
    "knnlda = KNeighborsClassifier(n_neighbors=5,n_jobs=-1,metric='euclidean')\n",
    "knnlda.fit(VWlda, train_labels) \n",
    "vwtestlda = lda.transform(visual_words_test)\n",
    "accuracy = 100*knnlda.score(vwtestlda, test_labels)\n",
    "print(accuracy)"
   ]
  }
 ],
 "metadata": {
  "kernelspec": {
   "display_name": "Python 3.9.13 ('base')",
   "language": "python",
   "name": "python3"
  },
  "language_info": {
   "codemirror_mode": {
    "name": "ipython",
    "version": 3
   },
   "file_extension": ".py",
   "mimetype": "text/x-python",
   "name": "python",
   "nbconvert_exporter": "python",
   "pygments_lexer": "ipython3",
   "version": "3.9.17"
  },
  "vscode": {
   "interpreter": {
    "hash": "ad2bdc8ecc057115af97d19610ffacc2b4e99fae6737bb82f5d7fb13d2f2c186"
   }
  }
 },
 "nbformat": 4,
 "nbformat_minor": 2
}
